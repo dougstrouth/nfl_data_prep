{
 "cells": [
  {
   "cell_type": "code",
   "execution_count": 2,
   "metadata": {},
   "outputs": [],
   "source": [
    "import pandas as pd\n",
    "import general_utilities as gu"
   ]
  },
  {
   "cell_type": "code",
   "execution_count": 3,
   "metadata": {},
   "outputs": [],
   "source": [
    "gu.setup_logging()"
   ]
  },
  {
   "cell_type": "code",
   "execution_count": 4,
   "metadata": {},
   "outputs": [],
   "source": [
    "duckdb_path = \"/Users/dougstrouth/Documents/Code/datasets/sports/NFL/nfl.duckdb\""
   ]
  },
  {
   "cell_type": "code",
   "execution_count": 5,
   "metadata": {},
   "outputs": [
    {
     "ename": "CatalogException",
     "evalue": "Catalog Error: Table with name depth_chart_injuries does not exist!\nDid you mean \"nfl.depth_chart_injures\"?",
     "output_type": "error",
     "traceback": [
      "\u001b[0;31m---------------------------------------------------------------------------\u001b[0m",
      "\u001b[0;31mCatalogException\u001b[0m                          Traceback (most recent call last)",
      "Cell \u001b[0;32mIn[5], line 5\u001b[0m\n\u001b[1;32m      3\u001b[0m pbp_sql \u001b[38;5;241m=\u001b[39m \u001b[38;5;124mf\u001b[39m\u001b[38;5;124m'\u001b[39m\u001b[38;5;124mSelect * from play_by_play.\u001b[39m\u001b[38;5;132;01m{\u001b[39;00mtable\u001b[38;5;132;01m}\u001b[39;00m\u001b[38;5;124m;\u001b[39m\u001b[38;5;124m'\u001b[39m\n\u001b[1;32m      4\u001b[0m conn\u001b[38;5;241m=\u001b[39mgu\u001b[38;5;241m.\u001b[39mconnect_to_duckdb(duckdb_path)\n\u001b[0;32m----> 5\u001b[0m pbp_df \u001b[38;5;241m=\u001b[39m\u001b[43mgu\u001b[49m\u001b[38;5;241;43m.\u001b[39;49m\u001b[43msql_to_df\u001b[49m\u001b[43m(\u001b[49m\u001b[43mconn\u001b[49m\u001b[43m,\u001b[49m\u001b[43mpbp_sql\u001b[49m\u001b[43m)\u001b[49m\n\u001b[1;32m      6\u001b[0m conn\u001b[38;5;241m.\u001b[39mclose()\n",
      "File \u001b[0;32m~/Documents/GitHub/nfl_data_prep/general_utilities.py:65\u001b[0m, in \u001b[0;36msql_to_df\u001b[0;34m(conn, sql)\u001b[0m\n\u001b[1;32m     64\u001b[0m \u001b[38;5;28;01mdef\u001b[39;00m \u001b[38;5;21msql_to_df\u001b[39m(conn: duckdb\u001b[38;5;241m.\u001b[39mDuckDBPyConnection, sql: \u001b[38;5;28mstr\u001b[39m) \u001b[38;5;241m-\u001b[39m\u001b[38;5;241m>\u001b[39m pd\u001b[38;5;241m.\u001b[39mDataFrame:\n\u001b[0;32m---> 65\u001b[0m     df \u001b[38;5;241m=\u001b[39m \u001b[43mconn\u001b[49m\u001b[38;5;241;43m.\u001b[39;49m\u001b[43msql\u001b[49m\u001b[43m(\u001b[49m\u001b[43msql\u001b[49m\u001b[43m)\u001b[49m\u001b[38;5;241m.\u001b[39mdf()\n\u001b[1;32m     66\u001b[0m     \u001b[38;5;28;01mreturn\u001b[39;00m df\n",
      "\u001b[0;31mCatalogException\u001b[0m: Catalog Error: Table with name depth_chart_injuries does not exist!\nDid you mean \"nfl.depth_chart_injures\"?"
     ]
    }
   ],
   "source": [
    "table = \"depth_chart_injuries\"\n",
    "\n",
    "pbp_sql = f'Select * from play_by_play.{table};'\n",
    "conn=gu.connect_to_duckdb(duckdb_path)\n",
    "pbp_df =gu.sql_to_df(conn,pbp_sql)\n",
    "conn.close()"
   ]
  },
  {
   "cell_type": "code",
   "execution_count": 7,
   "metadata": {},
   "outputs": [],
   "source": [
    "conn.close()"
   ]
  },
  {
   "cell_type": "code",
   "execution_count": null,
   "metadata": {},
   "outputs": [],
   "source": [
    "df = gu.clean_df_time_for_profiling(pbp_df)\n",
    "df = gu.clean_df_convert_object_for_profiling(df)"
   ]
  },
  {
   "cell_type": "code",
   "execution_count": null,
   "metadata": {},
   "outputs": [],
   "source": [
    "table = \"play_by_play\"\n",
    "gu.profiling(df, table)"
   ]
  },
  {
   "cell_type": "code",
   "execution_count": null,
   "metadata": {},
   "outputs": [],
   "source": [
    "conn=gu.connect_to_duckdb(duckdb_path)\n",
    " \n",
    "schema = \"main\"\n",
    "tables= gu.get_schema_info(conn,schema)\n",
    "distinct_table_names = tables['table_name'].unique()\n",
    "    \n",
    "for table_name in distinct_table_names:\n",
    "    table_df =pd.DataFrame()\n",
    "    print(f\"Processing table: {table_name}\")\n",
    "    # Here you can perform operations specific to each table\n",
    "    # For example, retrieve table data or schema details\n",
    "    sql = f\"SELECT * FROM {schema}.{table_name};\"\n",
    "    table_df = gu.sql_to_df(conn,sql)\n",
    "    df = gu.clean_df_time_for_profiling(table_df)\n",
    "    df = gu.clean_df_convert_object_for_profiling(df)\n",
    "    gu.profiling(df, table_name)\n",
    "    print(table_df.head())  # Print the first few rows of the table\n",
    "conn.close()"
   ]
  },
  {
   "cell_type": "markdown",
   "metadata": {},
   "source": [
    "Need to convert this loop to a function probably"
   ]
  },
  {
   "cell_type": "code",
   "execution_count": null,
   "metadata": {},
   "outputs": [],
   "source": [
    "small_df = df.sample(n=100000)\n",
    "\n",
    "#profile = ProfileReport(df, title=\"play by play report\", config_file=\"/Users/dougstrouth/Documents/GitHub/nfl_data_prep/config_minimal.yaml\")\n",
    "                        "
   ]
  }
 ],
 "metadata": {
  "kernelspec": {
   "display_name": "Python 3",
   "language": "python",
   "name": "python3"
  },
  "language_info": {
   "codemirror_mode": {
    "name": "ipython",
    "version": 3
   },
   "file_extension": ".py",
   "mimetype": "text/x-python",
   "name": "python",
   "nbconvert_exporter": "python",
   "pygments_lexer": "ipython3",
   "version": "3.12.4"
  }
 },
 "nbformat": 4,
 "nbformat_minor": 2
}
