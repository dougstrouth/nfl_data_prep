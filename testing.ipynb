{
 "cells": [
  {
   "cell_type": "code",
   "execution_count": 1,
   "metadata": {},
   "outputs": [],
   "source": [
    "import nfl_data_py as nfl\n",
    "from general_utilities import setup_logging\n",
    "setup_logging()\n"
   ]
  },
  {
   "cell_type": "code",
   "execution_count": 2,
   "metadata": {},
   "outputs": [],
   "source": [
    "import nfl_data_py as nfl\n",
    "import pandas as pd\n",
    "import logging\n",
    "\n",
    "# Set up logging\n",
    "logging.basicConfig(level=logging.DEBUG)\n",
    "start_year = 2010\n",
    "final_year = 2024\n",
    "\n",
    "years = list(range(start_year, final_year))\n",
    "\n",
    "try:\n",
    "    # Fetch weekly rosters data\n",
    "    data = nfl.import_weekly_rosters(years)\n",
    "\n",
    "    # Check for duplicate indices in the data\n",
    "    if data.index.duplicated().any():\n",
    "        logging.error(\"Duplicate indices found in the rosters DataFrame.\")\n",
    "\n",
    "        # Option 1: Drop duplicates while keeping the first occurrence\n",
    "        data = data[~data.index.duplicated(keep=\"first\")]\n",
    "\n",
    "        # Option 2: Reset index entirely to ensure unique index\n",
    "        # data = data.reset_index(drop=True)\n",
    "\n",
    "    # Ensure that the index is unique\n",
    "    if data.index.duplicated().any():\n",
    "        raise ValueError(\"Duplicate indices remain after attempted resolution.\")\n",
    "\n",
    "    # Log the shape and index details\n",
    "    logging.debug(f\"Data shape: {data.shape}\")\n",
    "    logging.debug(f\"Data index: {data.index}\")\n",
    "\n",
    "    # Check if 'birth_date' column exists before processing\n",
    "    if \"birth_date\" in data.columns:\n",
    "        # Attempt to calculate the 'age' column\n",
    "        try:\n",
    "            roster_dates = data[\"gameday\"]  # Assuming 'gameday' is a column in the data\n",
    "            data[\"age\"] = (\n",
    "                (\n",
    "                    pd.to_datetime(roster_dates) - pd.to_datetime(data[\"birth_date\"])\n",
    "                ).dt.days\n",
    "                / 365.25\n",
    "            ).round(3)\n",
    "            logging.debug(\"Age column successfully calculated.\")\n",
    "        except Exception as e:\n",
    "            logging.error(f\"Failed to calculate the 'age' column: {e}\")\n",
    "    else:\n",
    "        logging.warning(\"'birth_date' column not found in the data.\")\n",
    "\n",
    "except ValueError as ve:\n",
    "    logging.error(f\"ValueError occurred: {ve}\")\n",
    "except Exception as e:\n",
    "    logging.error(f\"An unexpected error occurred: {e}\")"
   ]
  }
 ],
 "metadata": {
  "kernelspec": {
   "display_name": "Python 3",
   "language": "python",
   "name": "python3"
  },
  "language_info": {
   "codemirror_mode": {
    "name": "ipython",
    "version": 3
   },
   "file_extension": ".py",
   "mimetype": "text/x-python",
   "name": "python",
   "nbconvert_exporter": "python",
   "pygments_lexer": "ipython3",
   "version": "3.12.4"
  }
 },
 "nbformat": 4,
 "nbformat_minor": 2
}
