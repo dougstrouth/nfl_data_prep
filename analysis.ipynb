{
 "cells": [
  {
   "cell_type": "code",
   "execution_count": 1,
   "metadata": {},
   "outputs": [],
   "source": [
    "from ydata_profiling import ProfileReport\n",
    "import pandas as pd\n",
    "import duckdb\n",
    "import logging\n",
    "import general_utilities as gu"
   ]
  },
  {
   "cell_type": "code",
   "execution_count": 2,
   "metadata": {},
   "outputs": [],
   "source": [
    "gu.setup_logging()"
   ]
  },
  {
   "cell_type": "code",
   "execution_count": 3,
   "metadata": {},
   "outputs": [],
   "source": [
    "duckdb_path = \"/Users/dougstrouth/Documents/Code/datasets/sports/NFL/nfl.duckdb\""
   ]
  },
  {
   "cell_type": "code",
   "execution_count": 4,
   "metadata": {},
   "outputs": [],
   "source": [
    "pbp_sql = 'Select * from play_by_play.play_by_play;'\n",
    "conn=gu.connect_to_duckdb(duckdb_path)\n",
    "pbp_df =gu.sql_to_df(conn,pbp_sql)\n",
    "conn.close()"
   ]
  },
  {
   "cell_type": "code",
   "execution_count": 5,
   "metadata": {},
   "outputs": [],
   "source": [
    "df = gu.clean_df_time_for_profiling(pbp_df)\n",
    "df = gu.clean_df_convert_object_for_profiling(df)"
   ]
  },
  {
   "cell_type": "code",
   "execution_count": null,
   "metadata": {},
   "outputs": [],
   "source": [
    "table = \"play_by_play\"\n",
    "gu.profiling(df, table)"
   ]
  },
  {
   "cell_type": "code",
   "execution_count": null,
   "metadata": {},
   "outputs": [],
   "source": [
    "conn=gu.connect_to_duckdb(duckdb_path)\n",
    " \n",
    "schema = \"main\"\n",
    "tables= gu.get_schema_info(conn,schema)\n",
    "distinct_table_names = tables['table_name'].unique()\n",
    "    \n",
    "for table_name in distinct_table_names:\n",
    "    table_df =pd.DataFrame()\n",
    "    print(f\"Processing table: {table_name}\")\n",
    "    # Here you can perform operations specific to each table\n",
    "    # For example, retrieve table data or schema details\n",
    "    sql = f\"SELECT * FROM {schema}.{table_name};\"\n",
    "    table_df = gu.sql_to_df(conn,sql)\n",
    "    df = gu.clean_df_time_for_profiling(table_df)\n",
    "    df = gu.clean_df_convert_object_for_profiling(df)\n",
    "    gu.profiling(df, table)\n",
    "    print(table_df.head())  # Print the first few rows of the table\n",
    "conn.close()"
   ]
  },
  {
   "cell_type": "code",
   "execution_count": null,
   "metadata": {},
   "outputs": [],
   "source": [
    "small_df = df.sample(n=100000)\n",
    "\n",
    "#profile = ProfileReport(df, title=\"play by play report\", config_file=\"/Users/dougstrouth/Documents/GitHub/nfl_data_prep/config_minimal.yaml\")\n",
    "                        "
   ]
  }
 ],
 "metadata": {
  "kernelspec": {
   "display_name": "Python 3",
   "language": "python",
   "name": "python3"
  },
  "language_info": {
   "codemirror_mode": {
    "name": "ipython",
    "version": 3
   },
   "file_extension": ".py",
   "mimetype": "text/x-python",
   "name": "python",
   "nbconvert_exporter": "python",
   "pygments_lexer": "ipython3",
   "version": "3.12.4"
  }
 },
 "nbformat": 4,
 "nbformat_minor": 2
}
