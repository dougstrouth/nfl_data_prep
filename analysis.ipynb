{
 "cells": [
  {
   "cell_type": "code",
   "execution_count": 1,
   "metadata": {},
   "outputs": [],
   "source": [
    "from ydata_profiling import ProfileReport\n",
    "import pandas as pd\n",
    "import duckdb\n",
    "import logging\n",
    "from general_utilities import setup_logging"
   ]
  },
  {
   "cell_type": "code",
   "execution_count": 2,
   "metadata": {},
   "outputs": [],
   "source": [
    "setup_logging()"
   ]
  },
  {
   "cell_type": "code",
   "execution_count": 5,
   "metadata": {},
   "outputs": [],
   "source": [
    "duckdb_path = \"/Users/dougstrouth/Documents/Code/datasets/sports/NFL/nfl.duckdb\""
   ]
  },
  {
   "cell_type": "code",
   "execution_count": 10,
   "metadata": {},
   "outputs": [],
   "source": [
    "conn = duckdb.connect(duckdb_path)\n",
    "pbp_sql = 'Select * from play_by_play.play_by_play;'\n",
    "pbp_df =conn.sql(pbp_sql).df()\n"
   ]
  },
  {
   "cell_type": "code",
   "execution_count": null,
   "metadata": {},
   "outputs": [],
   "source": [
    "import pandas as pd\n",
    "import numpy as np\n",
    "from datetime import datetime\n",
    "\n",
    "\n",
    "def convert_to_seconds(dt):\n",
    "    if isinstance(dt, datetime):\n",
    "        # Convert datetime to seconds since epoch\n",
    "        return int(dt.timestamp())\n",
    "    elif pd.isna(dt):\n",
    "        return np.nan\n",
    "    else:\n",
    "        raise ValueError(f\"Unsupported type for conversion: {type(dt)}\")\n",
    "\n",
    "\n",
    "def convert_datetime_columns_to_seconds(df):\n",
    "    df_copy = df.copy()  # Work on a copy to avoid modifying the original DataFrame\n",
    "    for column in df_copy.columns:\n",
    "        # Check if the column is of datetime type\n",
    "        if pd.api.types.is_datetime64_any_dtype(df_copy[column]):\n",
    "            # Convert datetime values to seconds\n",
    "            df_copy[column] = df_copy[column].apply(convert_to_seconds)\n",
    "    return df_copy\n",
    "\n",
    "\n",
    "# Sample DataFrame with datetime columns\n",
    "data = {\n",
    "    \"date1\": [datetime(2022, 1, 1), datetime(2022, 2, 1)],\n",
    "    \"date2\": [datetime(2023, 1, 1), pd.NaT],\n",
    "    \"values\": [10, 20],\n",
    "}\n",
    "\n",
    "df = pbp_df.copy()\n",
    "# Convert datetime columns to seconds\n",
    "df_converted = convert_datetime_columns_to_seconds(df)\n",
    "\n",
    "print(df_converted)"
   ]
  },
  {
   "cell_type": "code",
   "execution_count": null,
   "metadata": {},
   "outputs": [],
   "source": [
    "profile = ProfileReport(df_converted, title=\"Play by play Report\")"
   ]
  },
  {
   "cell_type": "code",
   "execution_count": null,
   "metadata": {},
   "outputs": [],
   "source": [
    "profile.to_file(\"play by play report.html\")"
   ]
  }
 ],
 "metadata": {
  "kernelspec": {
   "display_name": "Python 3",
   "language": "python",
   "name": "python3"
  },
  "language_info": {
   "codemirror_mode": {
    "name": "ipython",
    "version": 3
   },
   "file_extension": ".py",
   "mimetype": "text/x-python",
   "name": "python",
   "nbconvert_exporter": "python",
   "pygments_lexer": "ipython3",
   "version": "3.12.4"
  }
 },
 "nbformat": 4,
 "nbformat_minor": 2
}
