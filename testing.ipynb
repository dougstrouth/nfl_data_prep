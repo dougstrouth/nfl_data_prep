{
 "cells": [
  {
   "cell_type": "code",
   "execution_count": 2,
   "metadata": {},
   "outputs": [],
   "source": [
    "import nfl_data_py as nfl\n",
    "from general_utilities import setup_logging\n",
    "import get_play_by_play_data as pbp\n",
    "import duckdb_utils as ddu\n",
    "setup_logging()\n",
    "\n",
    "\n"
   ]
  },
  {
   "cell_type": "code",
   "execution_count": 3,
   "metadata": {},
   "outputs": [],
   "source": [
    "# Primary variables\n",
    "duckdb_file = \"/Users/dougstrouth/Documents/Code/datasets/sports/NFL/nfl.duckdb\"\n",
    "schema_pbp = \"play_by_play\"\n",
    "schema_aus = \"aus_betting\"\n",
    "folder_path_pbp = (\n",
    "    \"/Users/dougstrouth/Documents/Code/datasets/sports/NFL/raw_data/play_by_play\"\n",
    ")\n",
    "folder_path_aus = (\n",
    "    \"/Users/dougstrouth/Documents/Code/datasets/sports/NFL/nfl_scores_and_betting\"\n",
    ")"
   ]
  },
  {
   "cell_type": "markdown",
   "metadata": {},
   "source": [
    "Refresh the play by play data"
   ]
  },
  {
   "cell_type": "code",
   "execution_count": 3,
   "metadata": {},
   "outputs": [
    {
     "name": "stdout",
     "output_type": "stream",
     "text": [
      "weekly_roster saved to :  /Users/dougstrouth/Documents/Code/datasets/sports/NFL/raw_data/play_by_play\n",
      "2010 done.\n",
      "Downcasting floats.\n"
     ]
    },
    {
     "name": "stderr",
     "output_type": "stream",
     "text": [
      "/Users/dougstrouth/Documents/GitHub/nfl_data_prep/get_play_by_play_data.py:100: PerformanceWarning: DataFrame is highly fragmented.  This is usually the result of calling `frame.insert` many times, which has poor performance.  Consider joining all columns at once using pd.concat(axis=1) instead. To get a de-fragmented frame, use `newframe = frame.copy()`\n",
      "  data[\"year\"] = year\n",
      "/Users/dougstrouth/Documents/GitHub/nfl_data_prep/get_play_by_play_data.py:101: PerformanceWarning: DataFrame is highly fragmented.  This is usually the result of calling `frame.insert` many times, which has poor performance.  Consider joining all columns at once using pd.concat(axis=1) instead. To get a de-fragmented frame, use `newframe = frame.copy()`\n",
      "  data[\"data_point\"] = \"play_by_play\"\n"
     ]
    },
    {
     "name": "stdout",
     "output_type": "stream",
     "text": [
      "2011 done.\n",
      "Downcasting floats.\n"
     ]
    },
    {
     "name": "stderr",
     "output_type": "stream",
     "text": [
      "/Users/dougstrouth/Documents/GitHub/nfl_data_prep/get_play_by_play_data.py:100: PerformanceWarning: DataFrame is highly fragmented.  This is usually the result of calling `frame.insert` many times, which has poor performance.  Consider joining all columns at once using pd.concat(axis=1) instead. To get a de-fragmented frame, use `newframe = frame.copy()`\n",
      "  data[\"year\"] = year\n",
      "/Users/dougstrouth/Documents/GitHub/nfl_data_prep/get_play_by_play_data.py:101: PerformanceWarning: DataFrame is highly fragmented.  This is usually the result of calling `frame.insert` many times, which has poor performance.  Consider joining all columns at once using pd.concat(axis=1) instead. To get a de-fragmented frame, use `newframe = frame.copy()`\n",
      "  data[\"data_point\"] = \"play_by_play\"\n"
     ]
    },
    {
     "name": "stdout",
     "output_type": "stream",
     "text": [
      "2012 done.\n",
      "Downcasting floats.\n"
     ]
    },
    {
     "name": "stderr",
     "output_type": "stream",
     "text": [
      "/Users/dougstrouth/Documents/GitHub/nfl_data_prep/get_play_by_play_data.py:100: PerformanceWarning: DataFrame is highly fragmented.  This is usually the result of calling `frame.insert` many times, which has poor performance.  Consider joining all columns at once using pd.concat(axis=1) instead. To get a de-fragmented frame, use `newframe = frame.copy()`\n",
      "  data[\"year\"] = year\n",
      "/Users/dougstrouth/Documents/GitHub/nfl_data_prep/get_play_by_play_data.py:101: PerformanceWarning: DataFrame is highly fragmented.  This is usually the result of calling `frame.insert` many times, which has poor performance.  Consider joining all columns at once using pd.concat(axis=1) instead. To get a de-fragmented frame, use `newframe = frame.copy()`\n",
      "  data[\"data_point\"] = \"play_by_play\"\n"
     ]
    },
    {
     "name": "stdout",
     "output_type": "stream",
     "text": [
      "2013 done.\n",
      "Downcasting floats.\n"
     ]
    },
    {
     "name": "stderr",
     "output_type": "stream",
     "text": [
      "/Users/dougstrouth/Documents/GitHub/nfl_data_prep/get_play_by_play_data.py:100: PerformanceWarning: DataFrame is highly fragmented.  This is usually the result of calling `frame.insert` many times, which has poor performance.  Consider joining all columns at once using pd.concat(axis=1) instead. To get a de-fragmented frame, use `newframe = frame.copy()`\n",
      "  data[\"year\"] = year\n",
      "/Users/dougstrouth/Documents/GitHub/nfl_data_prep/get_play_by_play_data.py:101: PerformanceWarning: DataFrame is highly fragmented.  This is usually the result of calling `frame.insert` many times, which has poor performance.  Consider joining all columns at once using pd.concat(axis=1) instead. To get a de-fragmented frame, use `newframe = frame.copy()`\n",
      "  data[\"data_point\"] = \"play_by_play\"\n"
     ]
    },
    {
     "name": "stdout",
     "output_type": "stream",
     "text": [
      "2014 done.\n",
      "Downcasting floats.\n"
     ]
    },
    {
     "name": "stderr",
     "output_type": "stream",
     "text": [
      "/Users/dougstrouth/Documents/GitHub/nfl_data_prep/get_play_by_play_data.py:100: PerformanceWarning: DataFrame is highly fragmented.  This is usually the result of calling `frame.insert` many times, which has poor performance.  Consider joining all columns at once using pd.concat(axis=1) instead. To get a de-fragmented frame, use `newframe = frame.copy()`\n",
      "  data[\"year\"] = year\n",
      "/Users/dougstrouth/Documents/GitHub/nfl_data_prep/get_play_by_play_data.py:101: PerformanceWarning: DataFrame is highly fragmented.  This is usually the result of calling `frame.insert` many times, which has poor performance.  Consider joining all columns at once using pd.concat(axis=1) instead. To get a de-fragmented frame, use `newframe = frame.copy()`\n",
      "  data[\"data_point\"] = \"play_by_play\"\n"
     ]
    },
    {
     "name": "stdout",
     "output_type": "stream",
     "text": [
      "2015 done.\n",
      "Downcasting floats.\n"
     ]
    },
    {
     "name": "stderr",
     "output_type": "stream",
     "text": [
      "/Users/dougstrouth/Documents/GitHub/nfl_data_prep/get_play_by_play_data.py:100: PerformanceWarning: DataFrame is highly fragmented.  This is usually the result of calling `frame.insert` many times, which has poor performance.  Consider joining all columns at once using pd.concat(axis=1) instead. To get a de-fragmented frame, use `newframe = frame.copy()`\n",
      "  data[\"year\"] = year\n",
      "/Users/dougstrouth/Documents/GitHub/nfl_data_prep/get_play_by_play_data.py:101: PerformanceWarning: DataFrame is highly fragmented.  This is usually the result of calling `frame.insert` many times, which has poor performance.  Consider joining all columns at once using pd.concat(axis=1) instead. To get a de-fragmented frame, use `newframe = frame.copy()`\n",
      "  data[\"data_point\"] = \"play_by_play\"\n"
     ]
    },
    {
     "name": "stdout",
     "output_type": "stream",
     "text": [
      "2016 done.\n",
      "Downcasting floats.\n"
     ]
    },
    {
     "name": "stderr",
     "output_type": "stream",
     "text": [
      "/Users/dougstrouth/Documents/GitHub/nfl_data_prep/get_play_by_play_data.py:100: PerformanceWarning: DataFrame is highly fragmented.  This is usually the result of calling `frame.insert` many times, which has poor performance.  Consider joining all columns at once using pd.concat(axis=1) instead. To get a de-fragmented frame, use `newframe = frame.copy()`\n",
      "  data[\"year\"] = year\n",
      "/Users/dougstrouth/Documents/GitHub/nfl_data_prep/get_play_by_play_data.py:101: PerformanceWarning: DataFrame is highly fragmented.  This is usually the result of calling `frame.insert` many times, which has poor performance.  Consider joining all columns at once using pd.concat(axis=1) instead. To get a de-fragmented frame, use `newframe = frame.copy()`\n",
      "  data[\"data_point\"] = \"play_by_play\"\n"
     ]
    },
    {
     "name": "stdout",
     "output_type": "stream",
     "text": [
      "2017 done.\n",
      "Downcasting floats.\n"
     ]
    },
    {
     "name": "stderr",
     "output_type": "stream",
     "text": [
      "/Users/dougstrouth/Documents/GitHub/nfl_data_prep/get_play_by_play_data.py:100: PerformanceWarning: DataFrame is highly fragmented.  This is usually the result of calling `frame.insert` many times, which has poor performance.  Consider joining all columns at once using pd.concat(axis=1) instead. To get a de-fragmented frame, use `newframe = frame.copy()`\n",
      "  data[\"year\"] = year\n",
      "/Users/dougstrouth/Documents/GitHub/nfl_data_prep/get_play_by_play_data.py:101: PerformanceWarning: DataFrame is highly fragmented.  This is usually the result of calling `frame.insert` many times, which has poor performance.  Consider joining all columns at once using pd.concat(axis=1) instead. To get a de-fragmented frame, use `newframe = frame.copy()`\n",
      "  data[\"data_point\"] = \"play_by_play\"\n"
     ]
    },
    {
     "name": "stdout",
     "output_type": "stream",
     "text": [
      "2018 done.\n",
      "Downcasting floats.\n"
     ]
    },
    {
     "name": "stderr",
     "output_type": "stream",
     "text": [
      "/Users/dougstrouth/Documents/GitHub/nfl_data_prep/get_play_by_play_data.py:100: PerformanceWarning: DataFrame is highly fragmented.  This is usually the result of calling `frame.insert` many times, which has poor performance.  Consider joining all columns at once using pd.concat(axis=1) instead. To get a de-fragmented frame, use `newframe = frame.copy()`\n",
      "  data[\"year\"] = year\n",
      "/Users/dougstrouth/Documents/GitHub/nfl_data_prep/get_play_by_play_data.py:101: PerformanceWarning: DataFrame is highly fragmented.  This is usually the result of calling `frame.insert` many times, which has poor performance.  Consider joining all columns at once using pd.concat(axis=1) instead. To get a de-fragmented frame, use `newframe = frame.copy()`\n",
      "  data[\"data_point\"] = \"play_by_play\"\n"
     ]
    },
    {
     "name": "stdout",
     "output_type": "stream",
     "text": [
      "2019 done.\n",
      "Downcasting floats.\n"
     ]
    },
    {
     "name": "stderr",
     "output_type": "stream",
     "text": [
      "/Users/dougstrouth/Documents/GitHub/nfl_data_prep/get_play_by_play_data.py:100: PerformanceWarning: DataFrame is highly fragmented.  This is usually the result of calling `frame.insert` many times, which has poor performance.  Consider joining all columns at once using pd.concat(axis=1) instead. To get a de-fragmented frame, use `newframe = frame.copy()`\n",
      "  data[\"year\"] = year\n",
      "/Users/dougstrouth/Documents/GitHub/nfl_data_prep/get_play_by_play_data.py:101: PerformanceWarning: DataFrame is highly fragmented.  This is usually the result of calling `frame.insert` many times, which has poor performance.  Consider joining all columns at once using pd.concat(axis=1) instead. To get a de-fragmented frame, use `newframe = frame.copy()`\n",
      "  data[\"data_point\"] = \"play_by_play\"\n"
     ]
    },
    {
     "name": "stdout",
     "output_type": "stream",
     "text": [
      "2020 done.\n",
      "Downcasting floats.\n"
     ]
    },
    {
     "name": "stderr",
     "output_type": "stream",
     "text": [
      "/Users/dougstrouth/Documents/GitHub/nfl_data_prep/get_play_by_play_data.py:100: PerformanceWarning: DataFrame is highly fragmented.  This is usually the result of calling `frame.insert` many times, which has poor performance.  Consider joining all columns at once using pd.concat(axis=1) instead. To get a de-fragmented frame, use `newframe = frame.copy()`\n",
      "  data[\"year\"] = year\n",
      "/Users/dougstrouth/Documents/GitHub/nfl_data_prep/get_play_by_play_data.py:101: PerformanceWarning: DataFrame is highly fragmented.  This is usually the result of calling `frame.insert` many times, which has poor performance.  Consider joining all columns at once using pd.concat(axis=1) instead. To get a de-fragmented frame, use `newframe = frame.copy()`\n",
      "  data[\"data_point\"] = \"play_by_play\"\n"
     ]
    },
    {
     "name": "stdout",
     "output_type": "stream",
     "text": [
      "2021 done.\n",
      "Downcasting floats.\n"
     ]
    },
    {
     "name": "stderr",
     "output_type": "stream",
     "text": [
      "/Users/dougstrouth/Documents/GitHub/nfl_data_prep/get_play_by_play_data.py:100: PerformanceWarning: DataFrame is highly fragmented.  This is usually the result of calling `frame.insert` many times, which has poor performance.  Consider joining all columns at once using pd.concat(axis=1) instead. To get a de-fragmented frame, use `newframe = frame.copy()`\n",
      "  data[\"year\"] = year\n",
      "/Users/dougstrouth/Documents/GitHub/nfl_data_prep/get_play_by_play_data.py:101: PerformanceWarning: DataFrame is highly fragmented.  This is usually the result of calling `frame.insert` many times, which has poor performance.  Consider joining all columns at once using pd.concat(axis=1) instead. To get a de-fragmented frame, use `newframe = frame.copy()`\n",
      "  data[\"data_point\"] = \"play_by_play\"\n"
     ]
    },
    {
     "name": "stdout",
     "output_type": "stream",
     "text": [
      "2022 done.\n",
      "Downcasting floats.\n"
     ]
    },
    {
     "name": "stderr",
     "output_type": "stream",
     "text": [
      "/Users/dougstrouth/Documents/GitHub/nfl_data_prep/get_play_by_play_data.py:100: PerformanceWarning: DataFrame is highly fragmented.  This is usually the result of calling `frame.insert` many times, which has poor performance.  Consider joining all columns at once using pd.concat(axis=1) instead. To get a de-fragmented frame, use `newframe = frame.copy()`\n",
      "  data[\"year\"] = year\n",
      "/Users/dougstrouth/Documents/GitHub/nfl_data_prep/get_play_by_play_data.py:101: PerformanceWarning: DataFrame is highly fragmented.  This is usually the result of calling `frame.insert` many times, which has poor performance.  Consider joining all columns at once using pd.concat(axis=1) instead. To get a de-fragmented frame, use `newframe = frame.copy()`\n",
      "  data[\"data_point\"] = \"play_by_play\"\n"
     ]
    },
    {
     "name": "stdout",
     "output_type": "stream",
     "text": [
      "2023 done.\n",
      "Downcasting floats.\n"
     ]
    },
    {
     "name": "stderr",
     "output_type": "stream",
     "text": [
      "/Users/dougstrouth/Documents/GitHub/nfl_data_prep/get_play_by_play_data.py:100: PerformanceWarning: DataFrame is highly fragmented.  This is usually the result of calling `frame.insert` many times, which has poor performance.  Consider joining all columns at once using pd.concat(axis=1) instead. To get a de-fragmented frame, use `newframe = frame.copy()`\n",
      "  data[\"year\"] = year\n",
      "/Users/dougstrouth/Documents/GitHub/nfl_data_prep/get_play_by_play_data.py:101: PerformanceWarning: DataFrame is highly fragmented.  This is usually the result of calling `frame.insert` many times, which has poor performance.  Consider joining all columns at once using pd.concat(axis=1) instead. To get a de-fragmented frame, use `newframe = frame.copy()`\n",
      "  data[\"data_point\"] = \"play_by_play\"\n"
     ]
    },
    {
     "name": "stdout",
     "output_type": "stream",
     "text": [
      "Downcasting floats.\n"
     ]
    }
   ],
   "source": [
    "pbp.main()"
   ]
  },
  {
   "cell_type": "markdown",
   "metadata": {},
   "source": [
    "Upload all the data into duckdb for play by play"
   ]
  },
  {
   "cell_type": "code",
   "execution_count": 4,
   "metadata": {},
   "outputs": [
    {
     "name": "stdout",
     "output_type": "stream",
     "text": [
      "Table depth_charts created successfully.\n",
      "Table weekly_pfr created successfully.\n",
      "Table qbr created successfully.\n",
      "Table seasonal_pfr created successfully.\n"
     ]
    },
    {
     "data": {
      "application/vnd.jupyter.widget-view+json": {
       "model_id": "a3d3dfa86da04baa9b2adf78098d277f",
       "version_major": 2,
       "version_minor": 0
      },
      "text/plain": [
       "FloatProgress(value=0.0, layout=Layout(width='auto'), style=ProgressStyle(bar_color='black'))"
      ]
     },
     "metadata": {},
     "output_type": "display_data"
    },
    {
     "name": "stdout",
     "output_type": "stream",
     "text": [
      "Table play_by_play created successfully.\n",
      "Table ftn_data created successfully.\n",
      "Table injuries created successfully.\n",
      "Table weekly_rosters created successfully.\n"
     ]
    }
   ],
   "source": [
    "ddu.create_pbp_from_csvs(duckdb_file, schema_pbp, folder_path_pbp)"
   ]
  },
  {
   "cell_type": "markdown",
   "metadata": {},
   "source": [
    "already have the csvs from __[Kaggle NFL scores and betting data ](https://www.kaggle.com/datasets/tobycrabtree/nfl-scores-and-betting-data)__ \n",
    "\n",
    "uploading these next"
   ]
  },
  {
   "cell_type": "code",
   "execution_count": 5,
   "metadata": {},
   "outputs": [],
   "source": [
    "pbp.convert_and_upload_csvs_to_duckdb(duckdb_file, schema_aus, folder_path_aus)"
   ]
  },
  {
   "cell_type": "markdown",
   "metadata": {},
   "source": [
    "Generate a description of the tables and start to look for linkages\n",
    "This comes from the duckdb utils and should be project agnostict"
   ]
  },
  {
   "cell_type": "code",
   "execution_count": 4,
   "metadata": {},
   "outputs": [
    {
     "data": {
      "text/html": [
       "<div>\n",
       "<style scoped>\n",
       "    .dataframe tbody tr th:only-of-type {\n",
       "        vertical-align: middle;\n",
       "    }\n",
       "\n",
       "    .dataframe tbody tr th {\n",
       "        vertical-align: top;\n",
       "    }\n",
       "\n",
       "    .dataframe thead th {\n",
       "        text-align: right;\n",
       "    }\n",
       "</style>\n",
       "<table border=\"1\" class=\"dataframe\">\n",
       "  <thead>\n",
       "    <tr style=\"text-align: right;\">\n",
       "      <th></th>\n",
       "      <th>table_schema</th>\n",
       "      <th>table_name</th>\n",
       "      <th>column_name</th>\n",
       "      <th>data_type</th>\n",
       "    </tr>\n",
       "  </thead>\n",
       "  <tbody>\n",
       "    <tr>\n",
       "      <th>0</th>\n",
       "      <td>aus_betting</td>\n",
       "      <td>nfl_stadiums</td>\n",
       "      <td>stadium_name</td>\n",
       "      <td>VARCHAR</td>\n",
       "    </tr>\n",
       "    <tr>\n",
       "      <th>1</th>\n",
       "      <td>aus_betting</td>\n",
       "      <td>nfl_stadiums</td>\n",
       "      <td>stadium_location</td>\n",
       "      <td>VARCHAR</td>\n",
       "    </tr>\n",
       "    <tr>\n",
       "      <th>2</th>\n",
       "      <td>aus_betting</td>\n",
       "      <td>nfl_stadiums</td>\n",
       "      <td>stadium_open</td>\n",
       "      <td>BIGINT</td>\n",
       "    </tr>\n",
       "    <tr>\n",
       "      <th>3</th>\n",
       "      <td>aus_betting</td>\n",
       "      <td>nfl_stadiums</td>\n",
       "      <td>stadium_close</td>\n",
       "      <td>BIGINT</td>\n",
       "    </tr>\n",
       "    <tr>\n",
       "      <th>4</th>\n",
       "      <td>aus_betting</td>\n",
       "      <td>nfl_stadiums</td>\n",
       "      <td>stadium_type</td>\n",
       "      <td>VARCHAR</td>\n",
       "    </tr>\n",
       "    <tr>\n",
       "      <th>5</th>\n",
       "      <td>aus_betting</td>\n",
       "      <td>nfl_stadiums</td>\n",
       "      <td>stadium_address</td>\n",
       "      <td>VARCHAR</td>\n",
       "    </tr>\n",
       "    <tr>\n",
       "      <th>6</th>\n",
       "      <td>aus_betting</td>\n",
       "      <td>nfl_stadiums</td>\n",
       "      <td>stadium_weather_station_zipcode</td>\n",
       "      <td>VARCHAR</td>\n",
       "    </tr>\n",
       "    <tr>\n",
       "      <th>7</th>\n",
       "      <td>aus_betting</td>\n",
       "      <td>nfl_stadiums</td>\n",
       "      <td>stadium_weather_type</td>\n",
       "      <td>VARCHAR</td>\n",
       "    </tr>\n",
       "    <tr>\n",
       "      <th>8</th>\n",
       "      <td>aus_betting</td>\n",
       "      <td>nfl_stadiums</td>\n",
       "      <td>stadium_capacity</td>\n",
       "      <td>VARCHAR</td>\n",
       "    </tr>\n",
       "    <tr>\n",
       "      <th>9</th>\n",
       "      <td>aus_betting</td>\n",
       "      <td>nfl_stadiums</td>\n",
       "      <td>stadium_surface</td>\n",
       "      <td>VARCHAR</td>\n",
       "    </tr>\n",
       "    <tr>\n",
       "      <th>10</th>\n",
       "      <td>aus_betting</td>\n",
       "      <td>nfl_stadiums</td>\n",
       "      <td>stadium_weather_station</td>\n",
       "      <td>VARCHAR</td>\n",
       "    </tr>\n",
       "    <tr>\n",
       "      <th>11</th>\n",
       "      <td>aus_betting</td>\n",
       "      <td>nfl_stadiums</td>\n",
       "      <td>stadium_weather_station_name</td>\n",
       "      <td>VARCHAR</td>\n",
       "    </tr>\n",
       "    <tr>\n",
       "      <th>12</th>\n",
       "      <td>aus_betting</td>\n",
       "      <td>nfl_stadiums</td>\n",
       "      <td>stadium_latitude</td>\n",
       "      <td>DOUBLE</td>\n",
       "    </tr>\n",
       "    <tr>\n",
       "      <th>13</th>\n",
       "      <td>aus_betting</td>\n",
       "      <td>nfl_stadiums</td>\n",
       "      <td>stadium_longitude</td>\n",
       "      <td>DOUBLE</td>\n",
       "    </tr>\n",
       "    <tr>\n",
       "      <th>14</th>\n",
       "      <td>aus_betting</td>\n",
       "      <td>nfl_stadiums</td>\n",
       "      <td>stadium_azimuthangle</td>\n",
       "      <td>DOUBLE</td>\n",
       "    </tr>\n",
       "    <tr>\n",
       "      <th>15</th>\n",
       "      <td>aus_betting</td>\n",
       "      <td>nfl_stadiums</td>\n",
       "      <td>stadium_elevation</td>\n",
       "      <td>DOUBLE</td>\n",
       "    </tr>\n",
       "    <tr>\n",
       "      <th>16</th>\n",
       "      <td>aus_betting</td>\n",
       "      <td>nfl_teams</td>\n",
       "      <td>team_name</td>\n",
       "      <td>VARCHAR</td>\n",
       "    </tr>\n",
       "    <tr>\n",
       "      <th>17</th>\n",
       "      <td>aus_betting</td>\n",
       "      <td>nfl_teams</td>\n",
       "      <td>team_name_short</td>\n",
       "      <td>VARCHAR</td>\n",
       "    </tr>\n",
       "    <tr>\n",
       "      <th>18</th>\n",
       "      <td>aus_betting</td>\n",
       "      <td>nfl_teams</td>\n",
       "      <td>team_id</td>\n",
       "      <td>VARCHAR</td>\n",
       "    </tr>\n",
       "    <tr>\n",
       "      <th>19</th>\n",
       "      <td>aus_betting</td>\n",
       "      <td>nfl_teams</td>\n",
       "      <td>team_id_pfr</td>\n",
       "      <td>VARCHAR</td>\n",
       "    </tr>\n",
       "    <tr>\n",
       "      <th>20</th>\n",
       "      <td>aus_betting</td>\n",
       "      <td>nfl_teams</td>\n",
       "      <td>team_conference</td>\n",
       "      <td>VARCHAR</td>\n",
       "    </tr>\n",
       "    <tr>\n",
       "      <th>21</th>\n",
       "      <td>aus_betting</td>\n",
       "      <td>nfl_teams</td>\n",
       "      <td>team_division</td>\n",
       "      <td>VARCHAR</td>\n",
       "    </tr>\n",
       "    <tr>\n",
       "      <th>22</th>\n",
       "      <td>aus_betting</td>\n",
       "      <td>nfl_teams</td>\n",
       "      <td>team_conference_pre2002</td>\n",
       "      <td>VARCHAR</td>\n",
       "    </tr>\n",
       "    <tr>\n",
       "      <th>23</th>\n",
       "      <td>aus_betting</td>\n",
       "      <td>nfl_teams</td>\n",
       "      <td>team_division_pre2002</td>\n",
       "      <td>VARCHAR</td>\n",
       "    </tr>\n",
       "    <tr>\n",
       "      <th>24</th>\n",
       "      <td>aus_betting</td>\n",
       "      <td>spreadspoke_scores</td>\n",
       "      <td>schedule_date</td>\n",
       "      <td>DATE</td>\n",
       "    </tr>\n",
       "    <tr>\n",
       "      <th>25</th>\n",
       "      <td>aus_betting</td>\n",
       "      <td>spreadspoke_scores</td>\n",
       "      <td>schedule_season</td>\n",
       "      <td>BIGINT</td>\n",
       "    </tr>\n",
       "    <tr>\n",
       "      <th>26</th>\n",
       "      <td>aus_betting</td>\n",
       "      <td>spreadspoke_scores</td>\n",
       "      <td>schedule_week</td>\n",
       "      <td>VARCHAR</td>\n",
       "    </tr>\n",
       "    <tr>\n",
       "      <th>27</th>\n",
       "      <td>aus_betting</td>\n",
       "      <td>spreadspoke_scores</td>\n",
       "      <td>schedule_playoff</td>\n",
       "      <td>BOOLEAN</td>\n",
       "    </tr>\n",
       "    <tr>\n",
       "      <th>28</th>\n",
       "      <td>aus_betting</td>\n",
       "      <td>spreadspoke_scores</td>\n",
       "      <td>team_home</td>\n",
       "      <td>VARCHAR</td>\n",
       "    </tr>\n",
       "    <tr>\n",
       "      <th>29</th>\n",
       "      <td>aus_betting</td>\n",
       "      <td>spreadspoke_scores</td>\n",
       "      <td>score_home</td>\n",
       "      <td>BIGINT</td>\n",
       "    </tr>\n",
       "    <tr>\n",
       "      <th>30</th>\n",
       "      <td>aus_betting</td>\n",
       "      <td>spreadspoke_scores</td>\n",
       "      <td>score_away</td>\n",
       "      <td>BIGINT</td>\n",
       "    </tr>\n",
       "    <tr>\n",
       "      <th>31</th>\n",
       "      <td>aus_betting</td>\n",
       "      <td>spreadspoke_scores</td>\n",
       "      <td>team_away</td>\n",
       "      <td>VARCHAR</td>\n",
       "    </tr>\n",
       "    <tr>\n",
       "      <th>32</th>\n",
       "      <td>aus_betting</td>\n",
       "      <td>spreadspoke_scores</td>\n",
       "      <td>team_favorite_id</td>\n",
       "      <td>VARCHAR</td>\n",
       "    </tr>\n",
       "    <tr>\n",
       "      <th>33</th>\n",
       "      <td>aus_betting</td>\n",
       "      <td>spreadspoke_scores</td>\n",
       "      <td>spread_favorite</td>\n",
       "      <td>DOUBLE</td>\n",
       "    </tr>\n",
       "    <tr>\n",
       "      <th>34</th>\n",
       "      <td>aus_betting</td>\n",
       "      <td>spreadspoke_scores</td>\n",
       "      <td>over_under_line</td>\n",
       "      <td>VARCHAR</td>\n",
       "    </tr>\n",
       "    <tr>\n",
       "      <th>35</th>\n",
       "      <td>aus_betting</td>\n",
       "      <td>spreadspoke_scores</td>\n",
       "      <td>stadium</td>\n",
       "      <td>VARCHAR</td>\n",
       "    </tr>\n",
       "    <tr>\n",
       "      <th>36</th>\n",
       "      <td>aus_betting</td>\n",
       "      <td>spreadspoke_scores</td>\n",
       "      <td>stadium_neutral</td>\n",
       "      <td>BOOLEAN</td>\n",
       "    </tr>\n",
       "    <tr>\n",
       "      <th>37</th>\n",
       "      <td>aus_betting</td>\n",
       "      <td>spreadspoke_scores</td>\n",
       "      <td>weather_temperature</td>\n",
       "      <td>BIGINT</td>\n",
       "    </tr>\n",
       "    <tr>\n",
       "      <th>38</th>\n",
       "      <td>aus_betting</td>\n",
       "      <td>spreadspoke_scores</td>\n",
       "      <td>weather_wind_mph</td>\n",
       "      <td>BIGINT</td>\n",
       "    </tr>\n",
       "    <tr>\n",
       "      <th>39</th>\n",
       "      <td>aus_betting</td>\n",
       "      <td>spreadspoke_scores</td>\n",
       "      <td>weather_humidity</td>\n",
       "      <td>BIGINT</td>\n",
       "    </tr>\n",
       "    <tr>\n",
       "      <th>40</th>\n",
       "      <td>aus_betting</td>\n",
       "      <td>spreadspoke_scores</td>\n",
       "      <td>weather_detail</td>\n",
       "      <td>VARCHAR</td>\n",
       "    </tr>\n",
       "  </tbody>\n",
       "</table>\n",
       "</div>"
      ],
      "text/plain": [
       "   table_schema          table_name                      column_name data_type\n",
       "0   aus_betting        nfl_stadiums                     stadium_name   VARCHAR\n",
       "1   aus_betting        nfl_stadiums                 stadium_location   VARCHAR\n",
       "2   aus_betting        nfl_stadiums                     stadium_open    BIGINT\n",
       "3   aus_betting        nfl_stadiums                    stadium_close    BIGINT\n",
       "4   aus_betting        nfl_stadiums                     stadium_type   VARCHAR\n",
       "5   aus_betting        nfl_stadiums                  stadium_address   VARCHAR\n",
       "6   aus_betting        nfl_stadiums  stadium_weather_station_zipcode   VARCHAR\n",
       "7   aus_betting        nfl_stadiums             stadium_weather_type   VARCHAR\n",
       "8   aus_betting        nfl_stadiums                 stadium_capacity   VARCHAR\n",
       "9   aus_betting        nfl_stadiums                  stadium_surface   VARCHAR\n",
       "10  aus_betting        nfl_stadiums          stadium_weather_station   VARCHAR\n",
       "11  aus_betting        nfl_stadiums     stadium_weather_station_name   VARCHAR\n",
       "12  aus_betting        nfl_stadiums                 stadium_latitude    DOUBLE\n",
       "13  aus_betting        nfl_stadiums                stadium_longitude    DOUBLE\n",
       "14  aus_betting        nfl_stadiums             stadium_azimuthangle    DOUBLE\n",
       "15  aus_betting        nfl_stadiums                stadium_elevation    DOUBLE\n",
       "16  aus_betting           nfl_teams                        team_name   VARCHAR\n",
       "17  aus_betting           nfl_teams                  team_name_short   VARCHAR\n",
       "18  aus_betting           nfl_teams                          team_id   VARCHAR\n",
       "19  aus_betting           nfl_teams                      team_id_pfr   VARCHAR\n",
       "20  aus_betting           nfl_teams                  team_conference   VARCHAR\n",
       "21  aus_betting           nfl_teams                    team_division   VARCHAR\n",
       "22  aus_betting           nfl_teams          team_conference_pre2002   VARCHAR\n",
       "23  aus_betting           nfl_teams            team_division_pre2002   VARCHAR\n",
       "24  aus_betting  spreadspoke_scores                    schedule_date      DATE\n",
       "25  aus_betting  spreadspoke_scores                  schedule_season    BIGINT\n",
       "26  aus_betting  spreadspoke_scores                    schedule_week   VARCHAR\n",
       "27  aus_betting  spreadspoke_scores                 schedule_playoff   BOOLEAN\n",
       "28  aus_betting  spreadspoke_scores                        team_home   VARCHAR\n",
       "29  aus_betting  spreadspoke_scores                       score_home    BIGINT\n",
       "30  aus_betting  spreadspoke_scores                       score_away    BIGINT\n",
       "31  aus_betting  spreadspoke_scores                        team_away   VARCHAR\n",
       "32  aus_betting  spreadspoke_scores                 team_favorite_id   VARCHAR\n",
       "33  aus_betting  spreadspoke_scores                  spread_favorite    DOUBLE\n",
       "34  aus_betting  spreadspoke_scores                  over_under_line   VARCHAR\n",
       "35  aus_betting  spreadspoke_scores                          stadium   VARCHAR\n",
       "36  aus_betting  spreadspoke_scores                  stadium_neutral   BOOLEAN\n",
       "37  aus_betting  spreadspoke_scores              weather_temperature    BIGINT\n",
       "38  aus_betting  spreadspoke_scores                 weather_wind_mph    BIGINT\n",
       "39  aus_betting  spreadspoke_scores                 weather_humidity    BIGINT\n",
       "40  aus_betting  spreadspoke_scores                   weather_detail   VARCHAR"
      ]
     },
     "execution_count": 4,
     "metadata": {},
     "output_type": "execute_result"
    }
   ],
   "source": [
    "ddu.query_duckdb_metadata(duckdb_file,schema_aus)"
   ]
  },
  {
   "cell_type": "code",
   "execution_count": 5,
   "metadata": {},
   "outputs": [
    {
     "data": {
      "text/html": [
       "<div>\n",
       "<style scoped>\n",
       "    .dataframe tbody tr th:only-of-type {\n",
       "        vertical-align: middle;\n",
       "    }\n",
       "\n",
       "    .dataframe tbody tr th {\n",
       "        vertical-align: top;\n",
       "    }\n",
       "\n",
       "    .dataframe thead th {\n",
       "        text-align: right;\n",
       "    }\n",
       "</style>\n",
       "<table border=\"1\" class=\"dataframe\">\n",
       "  <thead>\n",
       "    <tr style=\"text-align: right;\">\n",
       "      <th></th>\n",
       "      <th>table_schema</th>\n",
       "      <th>table_name</th>\n",
       "      <th>column_name</th>\n",
       "      <th>data_type</th>\n",
       "    </tr>\n",
       "  </thead>\n",
       "  <tbody>\n",
       "    <tr>\n",
       "      <th>0</th>\n",
       "      <td>play_by_play</td>\n",
       "      <td>depth_charts</td>\n",
       "      <td>season</td>\n",
       "      <td>BIGINT</td>\n",
       "    </tr>\n",
       "    <tr>\n",
       "      <th>1</th>\n",
       "      <td>play_by_play</td>\n",
       "      <td>depth_charts</td>\n",
       "      <td>club_code</td>\n",
       "      <td>VARCHAR</td>\n",
       "    </tr>\n",
       "    <tr>\n",
       "      <th>2</th>\n",
       "      <td>play_by_play</td>\n",
       "      <td>depth_charts</td>\n",
       "      <td>week</td>\n",
       "      <td>DOUBLE</td>\n",
       "    </tr>\n",
       "    <tr>\n",
       "      <th>3</th>\n",
       "      <td>play_by_play</td>\n",
       "      <td>depth_charts</td>\n",
       "      <td>game_type</td>\n",
       "      <td>VARCHAR</td>\n",
       "    </tr>\n",
       "    <tr>\n",
       "      <th>4</th>\n",
       "      <td>play_by_play</td>\n",
       "      <td>depth_charts</td>\n",
       "      <td>depth_team</td>\n",
       "      <td>BIGINT</td>\n",
       "    </tr>\n",
       "    <tr>\n",
       "      <th>...</th>\n",
       "      <td>...</td>\n",
       "      <td>...</td>\n",
       "      <td>...</td>\n",
       "      <td>...</td>\n",
       "    </tr>\n",
       "    <tr>\n",
       "      <th>606</th>\n",
       "      <td>play_by_play</td>\n",
       "      <td>weekly_rosters</td>\n",
       "      <td>entry_year</td>\n",
       "      <td>DOUBLE</td>\n",
       "    </tr>\n",
       "    <tr>\n",
       "      <th>607</th>\n",
       "      <td>play_by_play</td>\n",
       "      <td>weekly_rosters</td>\n",
       "      <td>rookie_year</td>\n",
       "      <td>DOUBLE</td>\n",
       "    </tr>\n",
       "    <tr>\n",
       "      <th>608</th>\n",
       "      <td>play_by_play</td>\n",
       "      <td>weekly_rosters</td>\n",
       "      <td>draft_club</td>\n",
       "      <td>VARCHAR</td>\n",
       "    </tr>\n",
       "    <tr>\n",
       "      <th>609</th>\n",
       "      <td>play_by_play</td>\n",
       "      <td>weekly_rosters</td>\n",
       "      <td>draft_number</td>\n",
       "      <td>BIGINT</td>\n",
       "    </tr>\n",
       "    <tr>\n",
       "      <th>610</th>\n",
       "      <td>play_by_play</td>\n",
       "      <td>weekly_rosters</td>\n",
       "      <td>age</td>\n",
       "      <td>DOUBLE</td>\n",
       "    </tr>\n",
       "  </tbody>\n",
       "</table>\n",
       "<p>611 rows × 4 columns</p>\n",
       "</div>"
      ],
      "text/plain": [
       "     table_schema      table_name   column_name data_type\n",
       "0    play_by_play    depth_charts        season    BIGINT\n",
       "1    play_by_play    depth_charts     club_code   VARCHAR\n",
       "2    play_by_play    depth_charts          week    DOUBLE\n",
       "3    play_by_play    depth_charts     game_type   VARCHAR\n",
       "4    play_by_play    depth_charts    depth_team    BIGINT\n",
       "..            ...             ...           ...       ...\n",
       "606  play_by_play  weekly_rosters    entry_year    DOUBLE\n",
       "607  play_by_play  weekly_rosters   rookie_year    DOUBLE\n",
       "608  play_by_play  weekly_rosters    draft_club   VARCHAR\n",
       "609  play_by_play  weekly_rosters  draft_number    BIGINT\n",
       "610  play_by_play  weekly_rosters           age    DOUBLE\n",
       "\n",
       "[611 rows x 4 columns]"
      ]
     },
     "execution_count": 5,
     "metadata": {},
     "output_type": "execute_result"
    }
   ],
   "source": [
    "ddu.query_duckdb_metadata(duckdb_file,schema_pbp)"
   ]
  },
  {
   "cell_type": "code",
   "execution_count": 7,
   "metadata": {},
   "outputs": [
    {
     "name": "stdout",
     "output_type": "stream",
     "text": [
      "     table_schema           table_name   column_name data_type\n",
      "0            main  depth_chart_injures        season    BIGINT\n",
      "1            main  depth_chart_injures     club_code   VARCHAR\n",
      "2            main  depth_chart_injures          week    DOUBLE\n",
      "3            main  depth_chart_injures     game_type   VARCHAR\n",
      "4            main  depth_chart_injures    depth_team    BIGINT\n",
      "...           ...                  ...           ...       ...\n",
      "1605         main       weekly_rosters    entry_year    DOUBLE\n",
      "1606         main       weekly_rosters   rookie_year    DOUBLE\n",
      "1607         main       weekly_rosters    draft_club   VARCHAR\n",
      "1608         main       weekly_rosters  draft_number    BIGINT\n",
      "1609         main       weekly_rosters           age    DOUBLE\n",
      "\n",
      "[1610 rows x 4 columns]\n"
     ]
    }
   ],
   "source": [
    "import duckdb\n",
    "import pandas as pd\n",
    "\n",
    "# Connect to DuckDB\n",
    "conn = duckdb.connect(duckdb_file)\n",
    "\n",
    "# Query to get table and column information\n",
    "query = \"\"\"\n",
    "SELECT table_schema, table_name, column_name, data_type\n",
    "FROM information_schema.columns where table_schema = 'main'\n",
    "\"\"\"\n",
    "\n",
    "# Execute query and load results into a DataFrame\n",
    "df_columns = conn.execute(query).fetchdf()\n",
    "\n",
    "# Close the connection\n",
    "conn.close()\n",
    "\n",
    "# Display the DataFrame\n",
    "print(df_columns)"
   ]
  },
  {
   "cell_type": "code",
   "execution_count": 9,
   "metadata": {},
   "outputs": [
    {
     "name": "stderr",
     "output_type": "stream",
     "text": [
      "/var/folders/yh/0rpfq6997l56n6_wskf45w2m0000gn/T/ipykernel_89525/906030437.py:1: DeprecationWarning: DataFrameGroupBy.apply operated on the grouping columns. This behavior is deprecated, and in a future version of pandas the grouping columns will be excluded from the operation. Either pass `include_groups=False` to exclude the groupings or explicitly select the grouping columns after groupby to silence this warning.\n",
      "  schema_map = df_columns.groupby('table_name').apply(lambda x: (x['table_schema'].iloc[0], x['table_name'].iloc[0])).to_dict()\n"
     ]
    }
   ],
   "source": [
    "schema_map = df_columns.groupby('table_name').apply(lambda x: (x['table_schema'].iloc[0], x['table_name'].iloc[0])).to_dict()"
   ]
  },
  {
   "cell_type": "code",
   "execution_count": 10,
   "metadata": {},
   "outputs": [
    {
     "name": "stdout",
     "output_type": "stream",
     "text": [
      "{'age': ['seasonal_pfr', 'weekly_rosters'], 'data_point': ['depth_charts', 'ftn_data', 'injuries', 'play_by_play', 'qbr', 'seasonal_pfr', 'weekly_pfr'], 'first_name': ['depth_charts', 'injuries', 'weekly_rosters'], 'football_name': ['depth_charts', 'weekly_rosters'], 'full_name': ['depth_charts', 'injuries'], 'game_id': ['play_by_play', 'weekly_pfr'], 'game_type': ['depth_charts', 'injuries', 'weekly_pfr', 'weekly_rosters'], 'gsis_id': ['depth_charts', 'injuries'], 'jersey_number': ['depth_charts', 'play_by_play', 'weekly_rosters'], 'last_name': ['depth_charts', 'injuries', 'weekly_rosters'], 'nflverse_game_id': ['ftn_data', 'play_by_play'], 'pass': ['play_by_play', 'qbr'], 'penalty': ['play_by_play', 'qbr'], 'pfr_id': ['seasonal_pfr', 'weekly_rosters'], 'player_id': ['qbr', 'weekly_rosters'], 'position': ['depth_charts', 'injuries', 'weekly_rosters'], 's_type': ['seasonal_pfr', 'weekly_pfr'], 'sack': ['play_by_play', 'qbr'], 'season': ['depth_charts', 'ftn_data', 'injuries', 'play_by_play', 'qbr', 'seasonal_pfr', 'weekly_pfr', 'weekly_rosters'], 'season_type': ['play_by_play', 'qbr'], 'stadium': ['spreadspoke_scores', 'play_by_play'], 'team': ['injuries', 'qbr', 'seasonal_pfr', 'weekly_pfr', 'weekly_rosters'], 'times_blitzed': ['seasonal_pfr', 'weekly_pfr'], 'times_hit': ['seasonal_pfr', 'weekly_pfr'], 'times_hurried': ['seasonal_pfr', 'weekly_pfr'], 'times_pressured': ['seasonal_pfr', 'weekly_pfr'], 'week': ['depth_charts', 'ftn_data', 'injuries', 'play_by_play', 'weekly_pfr', 'weekly_rosters'], 'year': ['depth_charts', 'ftn_data', 'injuries', 'play_by_play', 'qbr']}\n"
     ]
    }
   ],
   "source": [
    "def find_possible_relationships(df):\n",
    "    # Create a dictionary to hold column relationships\n",
    "    relationships = {}\n",
    "\n",
    "    # Group by column name\n",
    "    for column_name, group in df.groupby('column_name'):\n",
    "        if len(group) > 1:\n",
    "            # Find tables with this column\n",
    "            tables = group['table_name'].tolist()\n",
    "            data_types = group['data_type'].tolist()\n",
    "\n",
    "            # Check for compatible data types for possible joins\n",
    "            compatible = [tables[i] for i in range(len(tables)) if data_types[i] in data_types]\n",
    "\n",
    "            if len(compatible) > 1:\n",
    "                relationships[column_name] = compatible\n",
    "\n",
    "    return relationships\n",
    "\n",
    "# Find possible relationships\n",
    "relationships = find_possible_relationships(df_columns)\n",
    "print(relationships)"
   ]
  },
  {
   "cell_type": "code",
   "execution_count": 11,
   "metadata": {},
   "outputs": [
    {
     "data": {
      "image/png": "[encoded data removed]",
      "text/plain": [
       "<Figure size 640x480 with 1 Axes>"
      ]
     },
     "metadata": {},
     "output_type": "display_data"
    }
   ],
   "source": [
    "import networkx as nx\n",
    "import matplotlib.pyplot as plt\n",
    "\n",
    "G = nx.Graph()\n",
    "\n",
    "# Add nodes and edges based on relationships\n",
    "for column, tables in relationships.items():\n",
    "    for i in range(len(tables)):\n",
    "        for j in range(i + 1, len(tables)):\n",
    "            G.add_edge(tables[i], tables[j], label=column)\n",
    "\n",
    "# Draw the graph\n",
    "pos = nx.spring_layout(G)\n",
    "nx.draw(G, pos, with_labels=True, node_size=3000, node_color='lightblue', font_size=10, font_weight='bold')\n",
    "labels = nx.get_edge_attributes(G, 'label')\n",
    "nx.draw_networkx_edge_labels(G, pos, edge_labels=labels)\n",
    "plt.show()"
   ]
  },
  {
   "cell_type": "code",
   "execution_count": null,
   "metadata": {},
   "outputs": [],
   "source": []
  },
  {
   "cell_type": "code",
   "execution_count": 12,
   "metadata": {},
   "outputs": [],
   "source": [
    "conn.close()"
   ]
  }
 ],
 "metadata": {
  "kernelspec": {
   "display_name": "Python 3",
   "language": "python",
   "name": "python3"
  },
  "language_info": {
   "codemirror_mode": {
    "name": "ipython",
    "version": 3
   },
   "file_extension": ".py",
   "mimetype": "text/x-python",
   "name": "python",
   "nbconvert_exporter": "python",
   "pygments_lexer": "ipython3",
   "version": "3.12.4"
  }
 },
 "nbformat": 4,
 "nbformat_minor": 2
}
